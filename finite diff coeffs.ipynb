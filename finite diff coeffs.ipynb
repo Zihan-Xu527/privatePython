{
 "cells": [
  {
   "cell_type": "code",
   "execution_count": 1,
   "metadata": {},
   "outputs": [
    {
     "name": "stdout",
     "output_type": "stream",
     "text": [
      "Requirement already satisfied: findiff in /Users/zihanxu/anaconda3/lib/python3.6/site-packages (0.8.9)\n",
      "Requirement already satisfied: numpy in /Users/zihanxu/anaconda3/lib/python3.6/site-packages (from findiff) (1.18.1)\n",
      "Requirement already satisfied: sympy in /Users/zihanxu/anaconda3/lib/python3.6/site-packages (from findiff) (1.1.1)\n",
      "Requirement already satisfied: scipy in /Users/zihanxu/anaconda3/lib/python3.6/site-packages (from findiff) (1.4.1)\n"
     ]
    }
   ],
   "source": [
    "!pip install findiff"
   ]
  },
  {
   "cell_type": "code",
   "execution_count": 1,
   "metadata": {},
   "outputs": [],
   "source": [
    "import findiff"
   ]
  },
  {
   "cell_type": "code",
   "execution_count": 2,
   "metadata": {},
   "outputs": [
    {
     "data": {
      "text/plain": [
       "{'center': {'coefficients': array([-1.66666667e-02,  1.50000000e-01, -7.50000000e-01, -1.64937307e-15,\n",
       "          7.50000000e-01, -1.50000000e-01,  1.66666667e-02]),\n",
       "  'offsets': array([-3, -2, -1,  0,  1,  2,  3]),\n",
       "  'accuracy': 6},\n",
       " 'forward': {'coefficients': array([-2.45      ,  6.        , -7.5       ,  6.66666667, -3.75      ,\n",
       "          1.2       , -0.16666667]),\n",
       "  'offsets': array([0, 1, 2, 3, 4, 5, 6]),\n",
       "  'accuracy': 6},\n",
       " 'backward': {'coefficients': array([ 0.16666667, -1.2       ,  3.75      , -6.66666667,  7.5       ,\n",
       "         -6.        ,  2.45      ]),\n",
       "  'offsets': array([-6, -5, -4, -3, -2, -1,  0]),\n",
       "  'accuracy': 6}}"
      ]
     },
     "execution_count": 2,
     "metadata": {},
     "output_type": "execute_result"
    }
   ],
   "source": [
    "findiff.coefficients(deriv=1, acc=6)"
   ]
  },
  {
   "cell_type": "code",
   "execution_count": 34,
   "metadata": {},
   "outputs": [],
   "source": [
    "coef6=findiff.coefficients(deriv=1, offsets=[-6,-5,-4,-3,-2,-1,0])"
   ]
  },
  {
   "cell_type": "code",
   "execution_count": 38,
   "metadata": {},
   "outputs": [
    {
     "name": "stdout",
     "output_type": "stream",
     "text": [
      "1/6\n",
      "-6/5\n",
      "15/4\n",
      "-20/3\n",
      "15/2\n",
      "-6\n",
      "49/20\n"
     ]
    }
   ],
   "source": [
    "coeff6=coef6.get('coefficients')\n",
    "for i in coeff6:\n",
    "    print(Fraction(i).limit_denominator())"
   ]
  },
  {
   "cell_type": "code",
   "execution_count": 39,
   "metadata": {},
   "outputs": [
    {
     "name": "stdout",
     "output_type": "stream",
     "text": [
      "10/147\n",
      "-24/49\n",
      "75/49\n",
      "-400/147\n",
      "150/49\n",
      "-120/49\n",
      "1\n"
     ]
    }
   ],
   "source": [
    "for i in coeff6:\n",
    "    print(Fraction(i*20/49).limit_denominator())"
   ]
  },
  {
   "cell_type": "code",
   "execution_count": 14,
   "metadata": {},
   "outputs": [],
   "source": [
    "coef7=findiff.coefficients(deriv=1, offsets=[-7,-6,-5,-4,-3,-2,-1,0])"
   ]
  },
  {
   "cell_type": "code",
   "execution_count": 18,
   "metadata": {},
   "outputs": [
    {
     "data": {
      "text/plain": [
       "array([ -0.14285714,   1.16666667,  -4.2       ,   8.75      ,\n",
       "       -11.66666667,  10.5       ,  -7.        ,   2.59285714])"
      ]
     },
     "execution_count": 18,
     "metadata": {},
     "output_type": "execute_result"
    }
   ],
   "source": [
    "coeff7=coef7.get('coefficients')\n",
    "coeff7"
   ]
  },
  {
   "cell_type": "code",
   "execution_count": 16,
   "metadata": {},
   "outputs": [],
   "source": [
    "from fractions import Fraction"
   ]
  },
  {
   "cell_type": "code",
   "execution_count": 29,
   "metadata": {},
   "outputs": [
    {
     "name": "stdout",
     "output_type": "stream",
     "text": [
      "-1/7\n",
      "7/6\n",
      "-21/5\n",
      "35/4\n",
      "-35/3\n",
      "21/2\n",
      "-7\n",
      "363/140\n"
     ]
    }
   ],
   "source": [
    "for i in coeff7:\n",
    "    print(Fraction(i).limit_denominator())"
   ]
  },
  {
   "cell_type": "code",
   "execution_count": 32,
   "metadata": {},
   "outputs": [
    {
     "name": "stdout",
     "output_type": "stream",
     "text": [
      "-20/363\n",
      "490/1089\n",
      "-196/121\n",
      "1225/363\n",
      "-4900/1089\n",
      "490/121\n",
      "-980/363\n",
      "1\n"
     ]
    }
   ],
   "source": [
    "for i in coeff7:\n",
    "    print(Fraction(i*140/363).limit_denominator())"
   ]
  },
  {
   "cell_type": "code",
   "execution_count": null,
   "metadata": {},
   "outputs": [],
   "source": []
  }
 ],
 "metadata": {
  "kernelspec": {
   "display_name": "Python 3",
   "language": "python",
   "name": "python3"
  },
  "language_info": {
   "codemirror_mode": {
    "name": "ipython",
    "version": 3
   },
   "file_extension": ".py",
   "mimetype": "text/x-python",
   "name": "python",
   "nbconvert_exporter": "python",
   "pygments_lexer": "ipython3",
   "version": "3.6.8"
  },
  "toc": {
   "base_numbering": 1,
   "nav_menu": {},
   "number_sections": true,
   "sideBar": true,
   "skip_h1_title": false,
   "title_cell": "Table of Contents",
   "title_sidebar": "Contents",
   "toc_cell": false,
   "toc_position": {},
   "toc_section_display": true,
   "toc_window_display": false
  }
 },
 "nbformat": 4,
 "nbformat_minor": 2
}
